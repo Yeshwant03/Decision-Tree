{
 "cells": [
  {
   "cell_type": "code",
   "execution_count": 128,
   "metadata": {},
   "outputs": [],
   "source": [
    "import numpy as np\n",
    "import matplotlib.pyplot as plt\n",
    "from sklearn import tree\n",
    "from sklearn.metrics import confusion_matrix\n",
    "from sklearn.externals.six import StringIO  \n",
    "from IPython.display import Image  \n",
    "from sklearn.tree import export_graphviz\n",
    "import collections\n",
    "from functools import partial\n",
    "import seaborn as sn\n",
    "import pandas as pd"
   ]
  },
  {
   "cell_type": "markdown",
   "metadata": {},
   "source": [
    "### Entropy\n",
    " - Compute the entropy of a vector $Y$ by considering the counts of the unique values $(y_1, ... y_k)$, in $Y$\n",
    " - Returns the entropy of $Y: H(Y) = - P_Y(y_1)log_2(P_Y(y_1)) - ... - P_Y(y_k)log_2(P_Y(y_k))$"
   ]
  },
  {
   "cell_type": "code",
   "execution_count": null,
   "metadata": {},
   "outputs": [],
   "source": [
    "def entropy(y, pro=None):\n",
    "    if not isinstance(pro, np.ndarray):\n",
    "        total = len(y)\n",
    "        pro = np.array([1/total for _ in range(total)])\n",
    "    uniques = partition(y)\n",
    "    ent = 0\n",
    "\n",
    "    for _, idx in uniques.items():\n",
    "        p = np.sum(pro[idx])\n",
    "        ent -= p*np.log2(p)\n",
    "    return ent"
   ]
  },
  {
   "cell_type": "code",
   "execution_count": null,
   "metadata": {},
   "outputs": [],
   "source": [
    "def gen_attr_val_pair(x):\n",
    "    attr_val = []\n",
    "    for attribute in range(len(x[0])):\n",
    "        for val in np.unique(x[:, attribute]):\n",
    "            attr_val.append((attribute, val))\n",
    "    return attr_val"
   ]
  },
  {
   "cell_type": "markdown",
   "metadata": {},
   "source": [
    "### partition"
   ]
  },
  {
   "cell_type": "code",
   "execution_count": null,
   "metadata": {},
   "outputs": [],
   "source": [
    "def partition(x):\n",
    "    x_unique = np.unique(x)\n",
    "    par = {i: np.where(x == i)[0] for i in x_unique}\n",
    "    return par"
   ]
  },
  {
   "cell_type": "markdown",
   "metadata": {},
   "source": [
    "### Mutual Information"
   ]
  },
  {
   "cell_type": "code",
   "execution_count": null,
   "metadata": {},
   "outputs": [],
   "source": [
    "def mutual_information(x, y, pro=None):\n",
    "    if not isinstance(pro, np.ndarray):\n",
    "        total = len(y)\n",
    "        pro = np.array([1/total for _ in range(total)])\n",
    "    H_y = entropy(y, pro)\n",
    "    uniques = partition(x)\n",
    "\n",
    "    H_yx = 0\n",
    "    for val, idn in uniques.items():\n",
    "        p = np.sum(pro[idn])\n",
    "        H_yx += p * entropy(y[idn], pro[idn])\n",
    "    \n",
    "    return H_y - H_yx\n",
    "    \n",
    "\n",
    "    "
   ]
  },
  {
   "cell_type": "markdown",
   "metadata": {},
   "source": [
    "### Visualization of Tree"
   ]
  },
  {
   "cell_type": "code",
   "execution_count": null,
   "metadata": {},
   "outputs": [],
   "source": [
    "def visualize(tree, depth=0):\n",
    "    \"\"\"\n",
    "    Pretty prints (kinda ugly, but hey, it's better than nothing) the decision tree to the console. Use print(tree) to\n",
    "    print the raw nested dictionary representation.\n",
    "    DO NOT MODIFY THIS FUNCTION!\n",
    "    \"\"\"\n",
    "\n",
    "    if depth == 0:\n",
    "        print('TREE')\n",
    "\n",
    "    for index, split_criterion in enumerate(tree):\n",
    "        sub_trees = tree[split_criterion]\n",
    "\n",
    "        # Print the current node: split criterion\n",
    "        print('|\\t' * depth, end='')\n",
    "        print('+-- [SPLIT: x{0} = {1}]'.format(split_criterion[0], split_criterion[1]))\n",
    "\n",
    "        # Print the children\n",
    "        if type(sub_trees) is dict:\n",
    "            visualize(sub_trees, depth + 1)\n",
    "        else:\n",
    "            print('|\\t' * (depth + 1), end='')\n",
    "            print('+-- [LABEL = {0}]'.format(sub_trees))"
   ]
  },
  {
   "cell_type": "code",
   "execution_count": null,
   "metadata": {},
   "outputs": [],
   "source": [
    "def pretty_print(tree, depth=0):\n",
    "    \"\"\"\n",
    "    Pretty prints the decision tree to the console. Use print(tree) to print the raw nested dictionary representation\n",
    "    DO NOT MODIFY THIS FUNCTION!\n",
    "    \"\"\"\n",
    "    if depth == 0:\n",
    "        print('TREE')\n",
    "\n",
    "    for index, split_criterion in enumerate(tree):\n",
    "        sub_trees = tree[split_criterion]\n",
    "\n",
    "        # Print the current node: split criterion\n",
    "        print('|\\t' * depth, end='')\n",
    "        print('+-- [SPLIT: x{0} = {1} {2}]'.format(split_criterion[0], split_criterion[1], split_criterion[2]))\n",
    "\n",
    "        # Print the children\n",
    "        if type(sub_trees) is dict:\n",
    "            pretty_print(sub_trees, depth + 1)\n",
    "        else:\n",
    "            print('|\\t' * (depth + 1), end='')\n",
    "            print('+-- [LABEL = {0}]'.format(sub_trees))"
   ]
  },
  {
   "cell_type": "markdown",
   "metadata": {},
   "source": [
    "### ID3 Algorithm\n",
    "\n",
    " - Implements the classical ID3 algorithm given training data (x), training labels (y) and an array of\n",
    "    attribute-value pairs to consider. \n",
    " - This is a recursive algorithm that depends on three termination conditions:\n",
    "       1. If the entire set of labels (y) is pure (all y = only 0 or only 1), then return that label\n",
    "       2. If the set of attribute-value pairs is empty (there is nothing to split on), then return the most common\n",
    "           value of y (majority label)\n",
    "       3. If the max_depth is reached (pre-pruning bias), then return the most common value of y (majority label)\n",
    "    Otherwise the algorithm selects the next best attribute-value pair using INFORMATION GAIN as the splitting criterion\n",
    "    and partitions the data set based on the values of that attribute before the next recursive call to ID3.\n",
    "\n",
    " - The tree we learn is a BINARY tree, which means that every node has only two branches. The splitting criterion has to be chosen from among all possible attribute-value pairs. That is, for a problem with two features/attributes x1 (taking values a, b, c) and x2 (taking values d, e), the initial attribute value pair list is a list of all pairs of\n",
    "    attributes with their corresponding values:\n",
    "    \n",
    "    \\[ ($x_1$, a),\n",
    "      ($x_1$, b,)\n",
    "      ($x_1$, c),\n",
    "      ($x_2$, d),\n",
    "      ($x_2$, e) \\]\n",
    "     \n",
    "     If we select (x2, d) as the best attribute-value pair, then the new decision node becomes: [ (x2 == d)? ] and\n",
    "     the attribute-value pair (x2, d) is removed from the list of attribute_value_pairs.\n",
    "\n",
    " - The tree is stored as a nested dictionary, where each entry is of the form\n",
    "                    (attribute_index, attribute_value, True/False): subtree\n",
    "    * The (attribute_index, attribute_value) determines the splitting criterion of the current node. For example, (4, 2) indicates that we test if (x4 == 2) at the current node.\n",
    "    * The subtree itself can be nested dictionary, or a single label (leaf node).\n",
    "    * Leaf nodes are (majority) class labels\n",
    "\n",
    " - Returns a decision tree represented as a nested dictionary, for example\n",
    "        {(4, 1, False):\n",
    "            {(0, 1, False):\n",
    "                {(1, 1, False): 1,\n",
    "                 (1, 1, True): 0},\n",
    "             (0, 1, True):\n",
    "                {(1, 1, False): 0,\n",
    "                 (1, 1, True): 1}},\n",
    "         (4, 1, True): 1}"
   ]
  },
  {
   "cell_type": "code",
   "execution_count": null,
   "metadata": {},
   "outputs": [],
   "source": [
    "def id3(x, y, attribute_val_pair=None, depth=0, max_depth=3, dist=None):\n",
    "    if not isinstance(dist, np.ndarray):\n",
    "        total = len(y)\n",
    "        dist = np.array([1/total for _ in range(total)])\n",
    "    # get unique counts and values from labels\n",
    "    uniquey, ycount = np.unique(y, return_counts=True)\n",
    "    \n",
    "    # no examples got splitted to this node, prune this node\n",
    "    if len(ycount) == 0:\n",
    "        return None\n",
    "    \n",
    "    # all examples are from only one class, so return the class label\n",
    "    if len(uniquey) == 1:\n",
    "        return uniquey[0]\n",
    "\n",
    "    # no more attribute value pairs remaning or we have reached max required depth\n",
    "    if len(attribute_val_pair) == 0 or depth == max_depth:\n",
    "        return uniquey[np.argmax(ycount)]\n",
    "    \n",
    "    # compute information for all possible attribute value pairs\n",
    "    information_gain = []\n",
    "    for attribute, value in attribute_val_pair:\n",
    "        information_gain.append(mutual_information(x[:, attribute] == value, y))\n",
    "    \n",
    "    best_split_idx = np.argmax(information_gain)\n",
    "    \n",
    "    attr, val = attribute_val_pair[best_split_idx]\n",
    "    attribute_val_pair = np.delete(attribute_val_pair, best_split_idx, axis=0)\n",
    "    \n",
    "    left_idx = np.where(x[:, attr] == val)[0]\n",
    "    right_idx = np.where(x[:, attr] != val)[0]\n",
    "    \n",
    "    x_left = x[left_idx]\n",
    "    y_left = y[left_idx]\n",
    "    dist_left = dist[left_idx]\n",
    "    x_right = x[right_idx]\n",
    "    y_right = y[right_idx]\n",
    "    dist_right = dist[right_idx]\n",
    "    \n",
    "    right_sub_tree = id3(x_right, y_right, attribute_val_pair, depth + 1, max_depth, dist_right)\n",
    "    left_sub_tree = id3(x_left, y_left, attribute_val_pair, depth + 1, max_depth, dist_left)\n",
    "    if right_sub_tree is not None and left_sub_tree is not None:\n",
    "        \n",
    "        node = {(attr, val, False): right_sub_tree,\n",
    "                (attr, val, True): left_sub_tree}\n",
    "        return node\n",
    "    \n",
    "    return uniquey[np.argmax(ycount)]\n"
   ]
  },
  {
   "cell_type": "markdown",
   "metadata": {},
   "source": [
    "### predict example"
   ]
  },
  {
   "cell_type": "code",
   "execution_count": null,
   "metadata": {},
   "outputs": [],
   "source": [
    "def predict(x, tree):\n",
    "        if type(tree) is not dict:\n",
    "            return tree\n",
    "        for attribute, value, test in tree:\n",
    "            if (x[attribute] == value) == test:\n",
    "                return predict(x, tree[(attribute, value, test)])"
   ]
  },
  {
   "cell_type": "markdown",
   "metadata": {},
   "source": [
    "### compute error"
   ]
  },
  {
   "cell_type": "code",
   "execution_count": null,
   "metadata": {},
   "outputs": [],
   "source": [
    "def compute_error(ytrue, ypred, dist=None):\n",
    "    if not isinstance(dist, np.ndarray):\n",
    "        total = len(ytrue)\n",
    "        dist = np.array([1/total for _ in range(total)])\n",
    "    return sum((yt != yp)*d for yt, yp, d in zip(ytrue, ypred, dist))"
   ]
  },
  {
   "cell_type": "markdown",
   "metadata": {},
   "source": [
    "### Confusion Table"
   ]
  },
  {
   "cell_type": "code",
   "execution_count": null,
   "metadata": {},
   "outputs": [],
   "source": [
    "def confusion_table(y_true, y_pred):\n",
    "    tp = tn = fp = fn = 0\n",
    "    \n",
    "    for yp, yt in zip(y_pred, y_true):\n",
    "        \n",
    "        if yp == 1:\n",
    "            if yt == 1:\n",
    "                tp += 1\n",
    "            else:\n",
    "                fp += 1\n",
    "        else:\n",
    "            if yt == 0:\n",
    "                tn += 1\n",
    "            else:\n",
    "                fn += 1\n",
    "    \n",
    "    return [[tp, fn], [fp, tn]]"
   ]
  },
  {
   "cell_type": "markdown",
   "metadata": {},
   "source": [
    "### train and get errors"
   ]
  },
  {
   "cell_type": "code",
   "execution_count": null,
   "metadata": {},
   "outputs": [],
   "source": [
    "def train(Xtrain, Ytrain, Xtest, Ytest, initial_depth=1, final_depth=10, return_trees=False, return_confusion=False):\n",
    "    attr_val_pair = []\n",
    "    for attribute in range(len(Xtrain[0])):\n",
    "        for val in np.unique(Xtrain[:, attribute]):\n",
    "            attr_val_pair.append((attribute, val))\n",
    "    \n",
    "    train_err = []\n",
    "    test_err = []\n",
    "    trees = []\n",
    "    confusion_tables=[]\n",
    "    \n",
    "    for depth in range(initial_depth, final_depth+1):\n",
    "        decision_tree = id3(Xtrain, Ytrain, attr_val_pair, max_depth=depth)\n",
    "        trees.append(decision_tree)\n",
    "        \n",
    "        y_pred_train = [predict_example(x, decision_tree) for x in Xtrain]\n",
    "        y_pred_test = [predict_example(x, decision_tree) for x in Xtest]\n",
    "        \n",
    "        confusion_tables.append(confusion_table(Ytest, y_pred_test))\n",
    "        \n",
    "        train_err.append(compute_error(Ytrain, y_pred_train))\n",
    "        test_err.append(compute_error(Ytest, y_pred_test))\n",
    "    \n",
    "    if return_trees and return_confusion:\n",
    "        return train_err, test_err, trees, confusion_tables\n",
    "    if return_trees:\n",
    "        return train_err, test_err, trees\n",
    "    if return_confusion:\n",
    "        return train_err, test_err, confusion_tables\n",
    "    return train_err, test_err\n"
   ]
  },
  {
   "cell_type": "markdown",
   "metadata": {},
   "source": [
    "### plot errors"
   ]
  },
  {
   "cell_type": "code",
   "execution_count": null,
   "metadata": {},
   "outputs": [],
   "source": [
    "def plot_errors(train_err, test_err, plot_title=None, save=False):\n",
    "    \n",
    "    plt.plot(list(range(1, len(train_err)+1)), train_err, label=\"train-error\")\n",
    "    plt.plot(list(range(1, len(test_err)+1)), test_err, label=\"test-error\")\n",
    "    plt.title(plot_title)\n",
    "    plt.legend()\n",
    "    plt.savefig(plot_title.replace(' ','_') + '.png')\n",
    "    plt.show()\n"
   ]
  },
  {
   "cell_type": "markdown",
   "metadata": {},
   "source": [
    "### Creating Confusion Matrix"
   ]
  },
  {
   "cell_type": "code",
   "execution_count": null,
   "metadata": {},
   "outputs": [],
   "source": [
    "def confusion_tree(ytest, y_pred_test):\n",
    "    cm = confusion_matrix(ytest, y_pred_test)\n",
    "    print(cm)\n",
    "    labels=['positive','negative']\n",
    "    fig = plt.figure()\n",
    "    ax = fig.add_subplot(111)\n",
    "    cax = ax.matshow(cm)\n",
    "    plt.title('Classifier Prediction')\n",
    "    fig.colorbar(cax)\n",
    "    ax.set_xticklabels([''] + labels)\n",
    "    ax.set_yticklabels([''] + labels)\n",
    "    plt.xlabel('Predicted')\n",
    "    plt.ylabel('Actual Value')\n",
    "    plt.show()"
   ]
  },
  {
   "cell_type": "markdown",
   "metadata": {},
   "source": [
    "### "
   ]
  },
  {
   "cell_type": "markdown",
   "metadata": {},
   "source": [
    "## main"
   ]
  },
  {
   "cell_type": "markdown",
   "metadata": {},
   "source": [
    "### load data"
   ]
  },
  {
   "cell_type": "code",
   "execution_count": null,
   "metadata": {},
   "outputs": [],
   "source": [
    "def load_data(M,N):\n",
    "    ytrain = M[:, 0]\n",
    "    Xtrain = M[:, 1:] \n",
    "    \n",
    "    ytest = N[:, 0]\n",
    "    Xtest = N[:, 1:]\n",
    "    \n",
    "    return Xtrain,ytrain,Xtest,ytest\n",
    "    \n"
   ]
  },
  {
   "cell_type": "code",
   "execution_count": null,
   "metadata": {},
   "outputs": [],
   "source": [
    "def my_decision_tree(M,N,depth):\n",
    "    Xtrain,ytrain,Xtest,ytest=load_data(M,N)\n",
    "    y_pred_test,train_err, test_err,decision_tree = main(Xtrain, ytrain, Xtest, ytest, depth)\n",
    "    #plot_errors(trn_err, tst_err, \"Dataset error plots\", True)\n",
    "    \n",
    "    return y_pred_test, ytest,decision_tree\n",
    "   \n",
    "    "
   ]
  },
  {
   "cell_type": "markdown",
   "metadata": {},
   "source": [
    "### Scikit-Learn"
   ]
  },
  {
   "cell_type": "code",
   "execution_count": null,
   "metadata": {},
   "outputs": [],
   "source": [
    "def scikit_learn(M,N):\n",
    "    Xtrain,ytrain,Xtest,ytest=load_data(M,N)\n",
    "    model = tree.DecisionTreeClassifier() # for classification, here default is gini\n",
    "    model.fit(Xtrain, ytrain)\n",
    "    \n",
    " \n",
    "    predicted = model.predict(Xtest)\n",
    "    print(\"accuracy: \"+str(model.score(Xtest,ytest)))\n",
    "    print(\"confusion matrix is below:-\")\n",
    "    confusion_tree(ytest,predicted)\n"
   ]
  },
  {
   "cell_type": "markdown",
   "metadata": {},
   "source": [
    "### Question 1"
   ]
  },
  {
   "cell_type": "markdown",
   "metadata": {},
   "source": [
    "### Mushroom Dataset"
   ]
  },
  {
   "cell_type": "markdown",
   "metadata": {},
   "source": [
    "### Main bagging and boosting"
   ]
  },
  {
   "cell_type": "code",
   "execution_count": 138,
   "metadata": {},
   "outputs": [],
   "source": [
    "def bootstrap_samples(size, T=200):\n",
    "\n",
    "    while T > 0:\n",
    "        yield np.random.choice(size, size, replace=True)\n",
    "        T-=1"
   ]
  },
  {
   "cell_type": "markdown",
   "metadata": {},
   "source": [
    "### Load Data"
   ]
  },
  {
   "cell_type": "code",
   "execution_count": 145,
   "metadata": {},
   "outputs": [],
   "source": [
    "M = np.genfromtxt('mushroom/mushroom.train', missing_values=0, skip_header=0, delimiter=',', dtype=int)\n",
    "N = np.genfromtxt('mushroom/mushroom.test', missing_values=0, skip_header=0, delimiter=',', dtype=int)\n",
    "\n",
    "Xtrn,ytrn,Xtst,ytst=load_data(M,N)"
   ]
  },
  {
   "cell_type": "markdown",
   "metadata": {},
   "source": [
    "### Bagging"
   ]
  },
  {
   "cell_type": "code",
   "execution_count": 140,
   "metadata": {},
   "outputs": [],
   "source": [
    "def bagging(x, y, max_depth, num_trees):\n",
    "    sample_idx = bootstrap_samples(x.shape[0], num_trees)\n",
    "    # TODO: Do we define attribute value pair for each bootstrap sample? :yes\n",
    "    # TODO: What to return?\n",
    "    h_ens = []\n",
    "    for idx in sample_idx:\n",
    "        Xtrain = x[idx]\n",
    "        Ytrain = y[idx]\n",
    "        \n",
    "        attr_val_pair = gen_attr_val_pair(Xtrain)\n",
    "        decision_tree = id3(Xtrain, Ytrain, attr_val_pair, max_depth=max_depth)\n",
    "        h_ens.append((1/num_trees, partial(predict, tree=decision_tree)))\n",
    "        \n",
    "    return h_ens"
   ]
  },
  {
   "cell_type": "markdown",
   "metadata": {},
   "source": [
    "### Boosting"
   ]
  },
  {
   "cell_type": "code",
   "execution_count": 141,
   "metadata": {},
   "outputs": [],
   "source": [
    "def boosting(Xtrain, Ytrain, max_depth, num_stumps):\n",
    "    # TODO: compute error for xtrain?\n",
    "    # TODO: how to determine alpha?\n",
    "    total = len(Ytrain)\n",
    "    D = np.array([1/total for _ in range(total)])\n",
    "    \n",
    "    h_ens = []\n",
    "    attr_val_pair = gen_attr_val_pair(Xtrain)\n",
    "    \n",
    "    for i in range(num_stumps):\n",
    "        # Learn\n",
    "        decision_tree = id3(Xtrain, Ytrain, attr_val_pair, max_depth=max_depth, dist=D)\n",
    "        \n",
    "        # Error\n",
    "        h = partial(predict, tree=decision_tree)\n",
    "        y_pred = [h(x) for x in Xtrain]\n",
    "        error = compute_error(Ytrain, y_pred, D)\n",
    "        \n",
    "        # Update weights\n",
    "        alpha = -0.5*np.log2(error) # ln((1-e)/e) = ln(1/e - 1) = ln(1/e) = -ln(e)\n",
    "        for i in range(len(D)):\n",
    "            D[i] = D[i]*np.exp(alpha if y_pred[i] != Ytrain[i] else -alpha)\n",
    "        \n",
    "        h_ens.append((alpha, h))\n",
    "        \n",
    "        D = D / np.sum(D)\n",
    "        #print(alpha, error, np.sum(D))\n",
    "        \n",
    "    return h_ens"
   ]
  },
  {
   "cell_type": "markdown",
   "metadata": {},
   "source": [
    "### Predict"
   ]
  },
  {
   "cell_type": "code",
   "execution_count": 142,
   "metadata": {},
   "outputs": [],
   "source": [
    "def predict_example(x, h_ens):\n",
    "    \"\"\"\n",
    "    h_ens = list of (h_i, alpha_i)\n",
    "    \"\"\"\n",
    "    pred = 0\n",
    "    for alpha, h in h_ens:\n",
    "        pred+=alpha*h(x)\n",
    "    return int(pred>=0.5)"
   ]
  },
  {
   "cell_type": "markdown",
   "metadata": {},
   "source": [
    "### Bagging"
   ]
  },
  {
   "cell_type": "code",
   "execution_count": 143,
   "metadata": {},
   "outputs": [
    {
     "name": "stdout",
     "output_type": "stream",
     "text": [
      "[[1167   20]\n",
      " [   0  844]]\n"
     ]
    },
    {
     "data": {
      "image/png": "[encoded data removed]",
      "text/plain": [
       "<Figure size 432x288 with 2 Axes>"
      ]
     },
     "metadata": {
      "needs_background": "light"
     },
     "output_type": "display_data"
    },
    {
     "name": "stdout",
     "output_type": "stream",
     "text": [
      "[[1167   20]\n",
      " [   0  844]]\n"
     ]
    },
    {
     "data": {
      "image/png": "[encoded data removed]",
      "text/plain": [
       "<Figure size 432x288 with 2 Axes>"
      ]
     },
     "metadata": {
      "needs_background": "light"
     },
     "output_type": "display_data"
    },
    {
     "name": "stdout",
     "output_type": "stream",
     "text": [
      "[[1135   52]\n",
      " [   4  840]]\n"
     ]
    },
    {
     "data": {
      "image/png": "[encoded data removed]",
      "text/plain": [
       "<Figure size 432x288 with 2 Axes>"
      ]
     },
     "metadata": {
      "needs_background": "light"
     },
     "output_type": "display_data"
    },
    {
     "name": "stdout",
     "output_type": "stream",
     "text": [
      "[[1135   52]\n",
      " [   4  840]]\n"
     ]
    },
    {
     "data": {
      "image/png": "[encoded data removed]",
      "text/plain": [
       "<Figure size 432x288 with 2 Axes>"
      ]
     },
     "metadata": {
      "needs_background": "light"
     },
     "output_type": "display_data"
    }
   ],
   "source": [
    "depth1=3\n",
    "depth2=5\n",
    "\n",
    "bag_size1=10\n",
    "bag_size2=20\n",
    "\n",
    "\n",
    "num_trees1 = 20\n",
    "num_trees2 =10\n",
    "max_depth1 = 5\n",
    "max_depth2 = 3\n",
    "\n",
    "Xtrn,Ytrn,Xtst,Ytst=load_data(M,N)\n",
    "h_ens = bagging(Xtrn, Ytrn, max_depth1, num_trees1)\n",
    "y_pred_tst = [predict_example(x, h_ens) for x in Xtst]\n",
    "compute_error(Ytst, y_pred_tst)\n",
    "confusion_tree(Ytst, y_pred_tst)\n",
    "\n",
    "h_ens = bagging(Xtrn, Ytrn, max_depth1, num_trees2)\n",
    "y_pred_tst = [predict_example(x, h_ens) for x in Xtst]\n",
    "compute_error(Ytst, y_pred_tst)\n",
    "confusion_tree(Ytst, y_pred_tst)\n",
    "\n",
    "h_ens = bagging(Xtrn, Ytrn, max_depth2, num_trees1)\n",
    "y_pred_tst = [predict_example(x, h_ens) for x in Xtst]\n",
    "compute_error(Ytst, y_pred_tst)\n",
    "confusion_tree(Ytst, y_pred_tst)\n",
    "\n",
    "h_ens = bagging(Xtrn, Ytrn, max_depth2, num_trees2)\n",
    "y_pred_tst = [predict_example(x, h_ens) for x in Xtst]\n",
    "compute_error(Ytst, y_pred_tst)\n",
    "confusion_tree(Ytst, y_pred_tst)\n"
   ]
  },
  {
   "cell_type": "markdown",
   "metadata": {},
   "source": [
    "### Boosting"
   ]
  },
  {
   "cell_type": "code",
   "execution_count": 144,
   "metadata": {},
   "outputs": [
    {
     "name": "stdout",
     "output_type": "stream",
     "text": [
      "[[1078  109]\n",
      " [  28  816]]\n"
     ]
    },
    {
     "data": {
      "image/png": "[encoded data removed]",
      "text/plain": [
       "<Figure size 432x288 with 2 Axes>"
      ]
     },
     "metadata": {
      "needs_background": "light"
     },
     "output_type": "display_data"
    },
    {
     "name": "stdout",
     "output_type": "stream",
     "text": [
      "[[1078  109]\n",
      " [  28  816]]\n"
     ]
    },
    {
     "data": {
      "image/png": "[encoded data removed]",
      "text/plain": [
       "<Figure size 432x288 with 2 Axes>"
      ]
     },
     "metadata": {
      "needs_background": "light"
     },
     "output_type": "display_data"
    },
    {
     "name": "stdout",
     "output_type": "stream",
     "text": [
      "[[981 206]\n",
      " [ 51 793]]\n"
     ]
    },
    {
     "data": {
      "image/png": "[encoded data removed]",
      "text/plain": [
       "<Figure size 432x288 with 2 Axes>"
      ]
     },
     "metadata": {
      "needs_background": "light"
     },
     "output_type": "display_data"
    },
    {
     "name": "stdout",
     "output_type": "stream",
     "text": [
      "[[981 206]\n",
      " [ 51 793]]\n"
     ]
    },
    {
     "data": {
      "image/png": "[encoded data removed]",
      "text/plain": [
       "<Figure size 432x288 with 2 Axes>"
      ]
     },
     "metadata": {
      "needs_background": "light"
     },
     "output_type": "display_data"
    }
   ],
   "source": [
    "max_depth1 = 2\n",
    "max_depth2 = 1\n",
    "num_stumps1 = 20\n",
    "num_stumps2 = 40\n",
    "\n",
    "\n",
    "h_ens = boosting(Xtrn, Ytrn, max_depth1, num_stumps1)\n",
    "y_pred_tst = [predict_example(x, h_ens) for x in Xtst]\n",
    "compute_error(Ytst, y_pred_tst)\n",
    "confusion_tree(Ytst, y_pred_tst)\n",
    "\n",
    "h_ens = boosting(Xtrn, Ytrn, max_depth1, num_stumps2)\n",
    "y_pred_tst = [predict_example(x, h_ens) for x in Xtst]\n",
    "compute_error(Ytst, y_pred_tst)\n",
    "confusion_tree(Ytst, y_pred_tst)\n",
    "\n",
    "h_ens = boosting(Xtrn, Ytrn, max_depth2, num_stumps1)\n",
    "y_pred_tst = [predict_example(x, h_ens) for x in Xtst]\n",
    "compute_error(Ytst, y_pred_tst)\n",
    "confusion_tree(Ytst, y_pred_tst)\n",
    "\n",
    "h_ens = boosting(Xtrn, Ytrn, max_depth2, num_stumps2)\n",
    "y_pred_tst = [predict_example(x, h_ens) for x in Xtst]\n",
    "compute_error(Ytst, y_pred_tst)\n",
    "confusion_tree(Ytst, y_pred_tst)\n"
   ]
  },
  {
   "cell_type": "markdown",
   "metadata": {},
   "source": [
    "### Bagging with Scikit-Learn"
   ]
  },
  {
   "cell_type": "code",
   "execution_count": 131,
   "metadata": {},
   "outputs": [
    {
     "name": "stdout",
     "output_type": "stream",
     "text": [
      "confusion matrix is below:-\n",
      "[[1185    2]\n",
      " [ 117  727]]\n"
     ]
    },
    {
     "data": {
      "image/png": "[encoded data removed]",
      "text/plain": [
       "<Figure size 432x288 with 2 Axes>"
      ]
     },
     "metadata": {
      "needs_background": "light"
     },
     "output_type": "display_data"
    },
    {
     "name": "stdout",
     "output_type": "stream",
     "text": [
      "confusion matrix is below:-\n",
      "[[1185    2]\n",
      " [ 117  727]]\n"
     ]
    },
    {
     "data": {
      "image/png": "[encoded data removed]",
      "text/plain": [
       "<Figure size 432x288 with 2 Axes>"
      ]
     },
     "metadata": {
      "needs_background": "light"
     },
     "output_type": "display_data"
    },
    {
     "name": "stdout",
     "output_type": "stream",
     "text": [
      "confusion matrix is below:-\n",
      "[[1182    5]\n",
      " [   9  835]]\n"
     ]
    },
    {
     "data": {
      "image/png": "[encoded data removed]",
      "text/plain": [
       "<Figure size 432x288 with 2 Axes>"
      ]
     },
     "metadata": {
      "needs_background": "light"
     },
     "output_type": "display_data"
    },
    {
     "name": "stdout",
     "output_type": "stream",
     "text": [
      "confusion matrix is below:-\n",
      "[[1179    8]\n",
      " [   9  835]]\n"
     ]
    },
    {
     "data": {
      "image/png": "[encoded data removed]",
      "text/plain": [
       "<Figure size 432x288 with 2 Axes>"
      ]
     },
     "metadata": {
      "needs_background": "light"
     },
     "output_type": "display_data"
    }
   ],
   "source": [
    "M = np.genfromtxt('mushroom/mushroom.test', missing_values=0, skip_header=0, delimiter=',', dtype=int)\n",
    "N = np.genfromtxt('mushroom/mushroom.test', missing_values=0, skip_header=0, delimiter=',', dtype=int)\n",
    "\n",
    "Xtrain,ytrain,Xtest,ytest = load_data(M,N)\n",
    "\n",
    "t_tree = tree.DecisionTreeClassifier(criterion='entropy',max_depth=3)\n",
    "abc = BaggingClassifier(base_estimator=t_tree,n_estimators=10)\n",
    "model = abc.fit(Xtrain,ytrain)\n",
    "predicted = model.predict(Xtest)\n",
    "print(\"confusion matrix is below:-\")\n",
    "confusion_tree(ytest,predicted)\n",
    "\n",
    "#Question 3 bagging part2\n",
    "\n",
    "\n",
    "t_tree = tree.DecisionTreeClassifier(criterion='entropy',max_depth=3) \n",
    "abc = BaggingClassifier(base_estimator=t_tree,n_estimators=20)\n",
    "model = abc.fit(Xtrain,ytrain)\n",
    "predicted = model.predict(Xtest)\n",
    "print(\"confusion matrix is below:-\")\n",
    "confusion_tree(ytest,predicted)\n",
    "\n",
    "#Question 3 bagging part3\n",
    "\n",
    "\n",
    "t_tree = tree.DecisionTreeClassifier(criterion='entropy',max_depth=5)\n",
    "abc = BaggingClassifier(base_estimator=t_tree,n_estimators=10)\n",
    "model = abc.fit(Xtrain,ytrain)\n",
    "predicted = model.predict(Xtest)\n",
    "print(\"confusion matrix is below:-\")\n",
    "confusion_tree(ytest,predicted)\n",
    "\n",
    "#Question 3 bagging part4\n",
    "\n",
    "\n",
    "t_tree = tree.DecisionTreeClassifier(criterion='entropy',max_depth=5)\n",
    "abc = BaggingClassifier(base_estimator=t_tree,n_estimators=20)\n",
    "model = abc.fit(Xtrain,ytrain)\n",
    "predicted = model.predict(Xtest)\n",
    "print(\"confusion matrix is below:-\")\n",
    "confusion_tree(ytest,predicted)"
   ]
  },
  {
   "cell_type": "markdown",
   "metadata": {},
   "source": [
    "### Boosting with Scikit-Learn"
   ]
  },
  {
   "cell_type": "code",
   "execution_count": 134,
   "metadata": {},
   "outputs": [
    {
     "name": "stdout",
     "output_type": "stream",
     "text": [
      "confusion matrix is below:-\n",
      "[[1185    2]\n",
      " [   0  844]]\n"
     ]
    },
    {
     "data": {
      "image/png": "[encoded data removed]",
      "text/plain": [
       "<Figure size 432x288 with 2 Axes>"
      ]
     },
     "metadata": {
      "needs_background": "light"
     },
     "output_type": "display_data"
    },
    {
     "name": "stdout",
     "output_type": "stream",
     "text": [
      "confusion matrix is below:-\n",
      "[[1187    0]\n",
      " [   0  844]]\n"
     ]
    },
    {
     "data": {
      "image/png": "[encoded data removed]",
      "text/plain": [
       "<Figure size 432x288 with 2 Axes>"
      ]
     },
     "metadata": {
      "needs_background": "light"
     },
     "output_type": "display_data"
    },
    {
     "name": "stdout",
     "output_type": "stream",
     "text": [
      "confusion matrix is below:-\n",
      "[[1187    0]\n",
      " [   0  844]]\n"
     ]
    },
    {
     "data": {
      "image/png": "[encoded data removed]",
      "text/plain": [
       "<Figure size 432x288 with 2 Axes>"
      ]
     },
     "metadata": {
      "needs_background": "light"
     },
     "output_type": "display_data"
    },
    {
     "name": "stdout",
     "output_type": "stream",
     "text": [
      "confusion matrix is below:-\n",
      "[[1187    0]\n",
      " [   0  844]]\n"
     ]
    },
    {
     "data": {
      "image/png": "[encoded data removed]",
      "text/plain": [
       "<Figure size 432x288 with 2 Axes>"
      ]
     },
     "metadata": {
      "needs_background": "light"
     },
     "output_type": "display_data"
    }
   ],
   "source": [
    "#Question 3 boosting part1\n",
    "from sklearn.ensemble import AdaBoostClassifier\n",
    "M = np.genfromtxt('mushroom/mushroom.test', missing_values=0, skip_header=0, delimiter=',', dtype=int)\n",
    "N = np.genfromtxt('mushroom/mushroom.test', missing_values=0, skip_header=0, delimiter=',', dtype=int)\n",
    "\n",
    "Xtrain,ytrain,Xtest,ytest = load_data(M,N)\n",
    "\n",
    "t_tree = tree.DecisionTreeClassifier(criterion='entropy',max_depth=1)\n",
    "abc =AdaBoostClassifier(n_estimators=20, base_estimator=t_tree,learning_rate=1)\n",
    "model = abc.fit(Xtrain,ytrain)\n",
    "predicted = model.predict(Xtest)\n",
    "print(\"confusion matrix is below:-\")\n",
    "confusion_tree(ytest,predicted)\n",
    "\n",
    "#Question 3 boosting part2\n",
    "\n",
    "\n",
    "t_tree = tree.DecisionTreeClassifier(criterion='entropy',max_depth=1) \n",
    "abc =AdaBoostClassifier(n_estimators=40, base_estimator=t_tree,learning_rate=1)\n",
    "model = abc.fit(Xtrain,ytrain)\n",
    "predicted = model.predict(Xtest)\n",
    "print(\"confusion matrix is below:-\")\n",
    "confusion_tree(ytest,predicted)\n",
    "\n",
    "#Question 3 boosting part3\n",
    "\n",
    "\n",
    "t_tree = tree.DecisionTreeClassifier(criterion='entropy',max_depth=2)\n",
    "abc =AdaBoostClassifier(n_estimators=20, base_estimator=t_tree,learning_rate=1)\n",
    "model = abc.fit(Xtrain,ytrain)\n",
    "predicted = model.predict(Xtest)\n",
    "print(\"confusion matrix is below:-\")\n",
    "confusion_tree(ytest,predicted)\n",
    "\n",
    "#Question 3 boosting part4\n",
    "\n",
    "t_tree = tree.DecisionTreeClassifier(criterion='entropy',max_depth=2)\n",
    "abc =AdaBoostClassifier(n_estimators=40, base_estimator=t_tree,learning_rate=1)\n",
    "model = abc.fit(Xtrain,ytrain)\n",
    "predicted = model.predict(Xtest)\n",
    "print(\"confusion matrix is below:-\")\n",
    "confusion_tree(ytest,predicted)\n",
    "\n"
   ]
  }
 ],
 "metadata": {
  "kernelspec": {
   "display_name": "Python 3",
   "language": "python",
   "name": "python3"
  },
  "language_info": {
   "codemirror_mode": {
    "name": "ipython",
    "version": 3
   },
   "file_extension": ".py",
   "mimetype": "text/x-python",
   "name": "python",
   "nbconvert_exporter": "python",
   "pygments_lexer": "ipython3",
   "version": "3.6.6"
  }
 },
 "nbformat": 4,
 "nbformat_minor": 2
}
